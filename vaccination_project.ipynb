{
 "cells": [
  {
   "cell_type": "code",
   "execution_count": 1,
   "id": "782450a5-bfd6-420c-a90b-0ceb073fce6f",
   "metadata": {},
   "outputs": [],
   "source": [
    "import pandas as pd\n",
    "import sqlite3"
   ]
  },
  {
   "cell_type": "code",
   "execution_count": 3,
   "id": "3091ccf9-c51f-4f90-b0de-dc88c86bd0b0",
   "metadata": {},
   "outputs": [],
   "source": [
    "# Step 1: Load Excel Files\n",
    "\n",
    "coverage = pd.read_excel(\"coverage-data.xlsx\")\n",
    "incidence = pd.read_excel(\"incidence-rate-data.xlsx\")\n",
    "reported = pd.read_excel(\"reported-cases-data.xlsx\")\n",
    "vaccine_intro = pd.read_excel(\"vaccine-introduction-data.xlsx\")\n",
    "vaccine_schedule = pd.read_excel(\"vaccine-schedule-data.xlsx\")"
   ]
  },
  {
   "cell_type": "code",
   "execution_count": 5,
   "id": "c997c765-e8ea-4870-96ae-f5029e45a10b",
   "metadata": {},
   "outputs": [],
   "source": [
    "#Step 2: Data Cleaning & Normalization\n",
    "\n",
    "def clean_columns(df):\n",
    "    \"\"\"Standardize column names to lowercase with underscores\"\"\"\n",
    "    df.columns = df.columns.str.strip().str.lower().str.replace(\" \", \"_\")\n",
    "    return df"
   ]
  },
  {
   "cell_type": "code",
   "execution_count": 7,
   "id": "db5c90c7-2abe-4df3-b0dd-d34811d248de",
   "metadata": {},
   "outputs": [],
   "source": [
    "# Apply cleaning\n",
    "coverage = clean_columns(coverage)\n",
    "incidence = clean_columns(incidence)\n",
    "reported = clean_columns(reported)\n",
    "vaccine_intro = clean_columns(vaccine_intro)\n",
    "vaccine_schedule = clean_columns(vaccine_schedule)"
   ]
  },
  {
   "cell_type": "code",
   "execution_count": 9,
   "id": "0b659593-afd8-4b69-a066-46fa8e8814d0",
   "metadata": {},
   "outputs": [],
   "source": [
    "# Handle missing values (basic strategy: drop rows with all NaN, fill others)\n",
    "coverage = coverage.dropna(how=\"all\").fillna(0)\n",
    "incidence = incidence.dropna(how=\"all\").fillna(0)\n",
    "reported = reported.dropna(how=\"all\").fillna(0)\n",
    "vaccine_intro = vaccine_intro.dropna(how=\"all\").fillna(\"Unknown\")\n",
    "vaccine_schedule = vaccine_schedule.dropna(how=\"all\").fillna(\"Unknown\")"
   ]
  },
  {
   "cell_type": "code",
   "execution_count": 11,
   "id": "206db08f-7924-4eef-be3b-87f449b61717",
   "metadata": {},
   "outputs": [],
   "source": [
    "# Ensure correct dtypes\n",
    "for df in [coverage, incidence, reported, vaccine_intro, vaccine_schedule]:\n",
    "    if \"year\" in df.columns:\n",
    "        df[\"year\"] = df[\"year\"].astype(int, errors=\"ignore\")"
   ]
  },
  {
   "cell_type": "code",
   "execution_count": 13,
   "id": "eb346df3-7b9b-4a3e-8932-05c295a19505",
   "metadata": {},
   "outputs": [],
   "source": [
    "# Step 3: SQL Database Setup"
   ]
  },
  {
   "cell_type": "code",
   "execution_count": 17,
   "id": "ef3c39d3-4ab9-4ef8-92c6-9a0ac4c52583",
   "metadata": {},
   "outputs": [],
   "source": [
    "# Create SQLite DB\n",
    "conn = sqlite3.connect(\"vaccination_project.db\")\n",
    "cursor = conn.cursor()"
   ]
  },
  {
   "cell_type": "code",
   "execution_count": 19,
   "id": "caab5b7e-498a-4a6a-b976-a0a21bfde175",
   "metadata": {},
   "outputs": [],
   "source": [
    "# Drop tables if exist (for reruns)\n",
    "tables = [\"coverage\", \"incidence\", \"reported_cases\", \"vaccine_introduction\", \"vaccine_schedule\"]\n",
    "for t in tables:\n",
    "    cursor.execute(f\"DROP TABLE IF EXISTS {t}\")"
   ]
  },
  {
   "cell_type": "code",
   "execution_count": 21,
   "id": "d49236a5-9c1f-4e38-883e-57e1fc4408eb",
   "metadata": {},
   "outputs": [
    {
     "data": {
      "text/plain": [
       "<sqlite3.Cursor at 0x249407f0d40>"
      ]
     },
     "execution_count": 21,
     "metadata": {},
     "output_type": "execute_result"
    }
   ],
   "source": [
    "# Create tables\n",
    "cursor.execute(\"\"\"\n",
    "CREATE TABLE coverage (\n",
    "    group_name TEXT,\n",
    "    code TEXT,\n",
    "    name TEXT,\n",
    "    year INTEGER,\n",
    "    antigen TEXT,\n",
    "    antigen_description TEXT,\n",
    "    coverage_category TEXT,\n",
    "    coverage_category_description TEXT,\n",
    "    target_number INTEGER,\n",
    "    dodge INTEGER,\n",
    "    coverage REAL\n",
    ")\n",
    "\"\"\")"
   ]
  },
  {
   "cell_type": "code",
   "execution_count": 23,
   "id": "fa385351-8eac-4304-b4e5-804fa785bc28",
   "metadata": {},
   "outputs": [
    {
     "data": {
      "text/plain": [
       "<sqlite3.Cursor at 0x249407f0d40>"
      ]
     },
     "execution_count": 23,
     "metadata": {},
     "output_type": "execute_result"
    }
   ],
   "source": [
    "cursor.execute(\"\"\"\n",
    "CREATE TABLE incidence (\n",
    "    group_name TEXT,\n",
    "    code TEXT,\n",
    "    name TEXT,\n",
    "    year INTEGER,\n",
    "    disease TEXT,\n",
    "    disease_description TEXT,\n",
    "    denominator INTEGER,\n",
    "    incidence_rate REAL\n",
    ")\n",
    "\"\"\")"
   ]
  },
  {
   "cell_type": "code",
   "execution_count": 25,
   "id": "9ddf14e6-6a5f-4879-8be6-98ef7c067aa4",
   "metadata": {},
   "outputs": [
    {
     "data": {
      "text/plain": [
       "<sqlite3.Cursor at 0x249407f0d40>"
      ]
     },
     "execution_count": 25,
     "metadata": {},
     "output_type": "execute_result"
    }
   ],
   "source": [
    "cursor.execute(\"\"\"\n",
    "CREATE TABLE reported_cases (\n",
    "    group_name TEXT,\n",
    "    code TEXT,\n",
    "    name TEXT,\n",
    "    year INTEGER,\n",
    "    disease TEXT,\n",
    "    disease_description TEXT,\n",
    "    cases INTEGER\n",
    ")\n",
    "\"\"\")"
   ]
  },
  {
   "cell_type": "code",
   "execution_count": 27,
   "id": "2c27c0b1-a050-467f-8593-a5cad5cca7a4",
   "metadata": {},
   "outputs": [
    {
     "data": {
      "text/plain": [
       "<sqlite3.Cursor at 0x249407f0d40>"
      ]
     },
     "execution_count": 27,
     "metadata": {},
     "output_type": "execute_result"
    }
   ],
   "source": [
    "cursor.execute(\"\"\"\n",
    "CREATE TABLE vaccine_introduction (\n",
    "    iso_3_code TEXT,\n",
    "    country_name TEXT,\n",
    "    who_region TEXT,\n",
    "    year INTEGER,\n",
    "    description TEXT,\n",
    "    intro TEXT\n",
    ")\n",
    "\"\"\")"
   ]
  },
  {
   "cell_type": "code",
   "execution_count": 29,
   "id": "65011f6d-bd6f-4e14-b1eb-aa6d916c9c5c",
   "metadata": {},
   "outputs": [
    {
     "data": {
      "text/plain": [
       "<sqlite3.Cursor at 0x249407f0d40>"
      ]
     },
     "execution_count": 29,
     "metadata": {},
     "output_type": "execute_result"
    }
   ],
   "source": [
    "cursor.execute(\"\"\"\n",
    "CREATE TABLE vaccine_schedule (\n",
    "    iso_3_code TEXT,\n",
    "    country_name TEXT,\n",
    "    who_region TEXT,\n",
    "    year INTEGER,\n",
    "    vaccine_code TEXT,\n",
    "    vaccine_description TEXT,\n",
    "    schedule_rounds TEXT,\n",
    "    target_pop TEXT,\n",
    "    target_pop_description TEXT,\n",
    "    geoarea TEXT,\n",
    "    age_administered TEXT,\n",
    "    source_comment TEXT\n",
    ")\n",
    "\"\"\")"
   ]
  },
  {
   "cell_type": "code",
   "execution_count": 35,
   "id": "7c19676d-24b3-4a9d-bdcf-9ba729a13880",
   "metadata": {},
   "outputs": [],
   "source": [
    "# Rename 'group' column to 'group_name' (to avoid conflict with SQL keyword)\n",
    "if \"group\" in coverage.columns:\n",
    "    coverage.rename(columns={\"group\": \"group_name\"}, inplace=True)\n",
    "if \"group\" in incidence.columns:\n",
    "    incidence.rename(columns={\"group\": \"group_name\"}, inplace=True)\n",
    "if \"group\" in reported.columns:\n",
    "    reported.rename(columns={\"group\": \"group_name\"}, inplace=True)"
   ]
  },
  {
   "cell_type": "code",
   "execution_count": 39,
   "id": "10942f63-93fb-40bc-a1cb-c3f53cadf3e4",
   "metadata": {},
   "outputs": [],
   "source": [
    "# Step 2.5: Rename reserved columns\n",
    "\n",
    "if \"group\" in coverage.columns:\n",
    "    coverage.rename(columns={\"group\": \"group_name\"}, inplace=True)\n",
    "if \"group\" in incidence.columns:\n",
    "    incidence.rename(columns={\"group\": \"group_name\"}, inplace=True)\n",
    "if \"group\" in reported.columns:\n",
    "    reported.rename(columns={\"group\": \"group_name\"}, inplace=True)\n"
   ]
  },
  {
   "cell_type": "code",
   "execution_count": 45,
   "id": "d35e24b7-d365-451a-8a9e-2e455f195cba",
   "metadata": {},
   "outputs": [
    {
     "name": "stdout",
     "output_type": "stream",
     "text": [
      "['iso_3_code', 'countryname', 'who_region', 'year', 'description', 'intro']\n"
     ]
    }
   ],
   "source": [
    "print(vaccine_intro.columns.tolist())"
   ]
  },
  {
   "cell_type": "code",
   "execution_count": 49,
   "id": "4a669e79-cbbe-467d-80d4-1672e74cabfa",
   "metadata": {},
   "outputs": [
    {
     "name": "stdout",
     "output_type": "stream",
     "text": [
      "✅ Data cleaned and loaded into vaccination_project.db successfully!\n"
     ]
    }
   ],
   "source": [
    "print(\"✅ Data cleaned and loaded into vaccination_project.db successfully!\")"
   ]
  },
  {
   "cell_type": "code",
   "execution_count": 63,
   "id": "1d95a0a7-b155-4acc-9b43-df970b6d4fe2",
   "metadata": {},
   "outputs": [
    {
     "name": "stdout",
     "output_type": "stream",
     "text": [
      "✅ Tables in database: [('coverage',), ('incidence',), ('reported_cases',), ('vaccine_introduction',), ('vaccine_schedule',), ('country',)]\n"
     ]
    }
   ],
   "source": [
    "import sqlite3\n",
    "\n",
    "conn = sqlite3.connect(\"vaccination_project.db\")\n",
    "cursor = conn.cursor()\n",
    "\n",
    "# Get all tables in the database\n",
    "cursor.execute(\"SELECT name FROM sqlite_master WHERE type='table';\")\n",
    "tables_in_db = cursor.fetchall()\n",
    "\n",
    "print(\"✅ Tables in database:\", tables_in_db)\n",
    "\n",
    "conn.close()"
   ]
  },
  {
   "cell_type": "code",
   "execution_count": 65,
   "id": "7d08bb2d-3124-48e3-bd0f-8efcdd83cab9",
   "metadata": {},
   "outputs": [
    {
     "name": "stdout",
     "output_type": "stream",
     "text": [
      "✅ Exported coverage.csv\n",
      "✅ Exported incidence.csv\n",
      "✅ Exported reported_cases.csv\n"
     ]
    }
   ],
   "source": [
    "import sqlite3\n",
    "import pandas as pd\n",
    "\n",
    "conn = sqlite3.connect(\"vaccination_project.db\")\n",
    "\n",
    "# Use only tables that actually exist\n",
    "tables = [\"coverage\", \"incidence\", \"reported_cases\"]  # update after Step 1 output\n",
    "\n",
    "for table in tables:\n",
    "    df = pd.read_sql_query(f\"SELECT * FROM {table}\", conn)\n",
    "    df.to_csv(f\"{table}.csv\", index=False)\n",
    "    print(f\"✅ Exported {table}.csv\")\n",
    "\n",
    "conn.close()"
   ]
  },
  {
   "cell_type": "code",
   "execution_count": 67,
   "id": "78f77802-e615-42f9-bf92-e1791f3f7bd0",
   "metadata": {},
   "outputs": [
    {
     "name": "stdout",
     "output_type": "stream",
     "text": [
      "✅ Export complete: CSVs saved in your working directory.\n"
     ]
    }
   ],
   "source": [
    "# Export all cleaned DataFrames to CSV for Power BI\n",
    "coverage.to_csv(\"coverage.csv\", index=False)\n",
    "incidence.to_csv(\"incidence.csv\", index=False)\n",
    "reported.to_csv(\"reported_cases.csv\", index=False)\n",
    "vaccine_intro.to_csv(\"vaccine_intro.csv\", index=False)\n",
    "vaccine_schedule.to_csv(\"vaccine_schedule.csv\", index=False)\n",
    "\n",
    "print(\"✅ Export complete: CSVs saved in your working directory.\")"
   ]
  },
  {
   "cell_type": "code",
   "execution_count": 69,
   "id": "2bb9a96d-4b3a-4d10-87db-e1128282aaa7",
   "metadata": {},
   "outputs": [
    {
     "name": "stdout",
     "output_type": "stream",
     "text": [
      "\n",
      "📂 coverage-data.xlsx contains sheets: ['Data', 'Reference', 'Reference (ADMIN)', 'Reference (OFFICIAL)', 'Reference (WUENIC)', 'Reference (HPV)', 'Reference (PAB)']\n",
      "       GROUP CODE   NAME    YEAR  ANTIGEN  \\\n",
      "0  COUNTRIES  ABW  Aruba  2023.0      BCG   \n",
      "1  COUNTRIES  ABW  Aruba  2023.0      BCG   \n",
      "2  COUNTRIES  ABW  Aruba  2023.0  DIPHCV4   \n",
      "3  COUNTRIES  ABW  Aruba  2023.0  DIPHCV4   \n",
      "4  COUNTRIES  ABW  Aruba  2023.0  DIPHCV5   \n",
      "\n",
      "                                 ANTIGEN_DESCRIPTION COVERAGE_CATEGORY  \\\n",
      "0                                                BCG             ADMIN   \n",
      "1                                                BCG          OFFICIAL   \n",
      "2  Diphtheria-containing vaccine, 4th dose (1st b...             ADMIN   \n",
      "3  Diphtheria-containing vaccine, 4th dose (1st b...          OFFICIAL   \n",
      "4  Diphtheria-containing vaccine, 5th dose (2nd b...             ADMIN   \n",
      "\n",
      "  COVERAGE_CATEGORY_DESCRIPTION  TARGET_NUMBER   DOSES  COVERAGE  \n",
      "0       Administrative coverage            NaN     NaN       NaN  \n",
      "1             Official coverage            NaN     NaN       NaN  \n",
      "2       Administrative coverage         1044.0   945.0     90.52  \n",
      "3             Official coverage            NaN     NaN     90.52  \n",
      "4       Administrative coverage         1219.0  1008.0     82.69  \n",
      "\n",
      "📂 incidence-rate-data.xlsx contains sheets: ['Data', 'Reference']\n",
      "       GROUP CODE   NAME    YEAR          DISEASE  \\\n",
      "0  COUNTRIES  ABW  Aruba  2023.0              CRS   \n",
      "1  COUNTRIES  ABW  Aruba  2023.0       DIPHTHERIA   \n",
      "2  COUNTRIES  ABW  Aruba  2023.0  INVASIVE_MENING   \n",
      "3  COUNTRIES  ABW  Aruba  2023.0          MEASLES   \n",
      "4  COUNTRIES  ABW  Aruba  2023.0            MUMPS   \n",
      "\n",
      "              DISEASE_DESCRIPTION                     DENOMINATOR  \\\n",
      "0     Congenital rubella syndrome          per 10,000 live births   \n",
      "1                      Diphtheria  per 1,000,000 total population   \n",
      "2  Invasive meningococcal disease  per 1,000,000 total population   \n",
      "3                         Measles  per 1,000,000 total population   \n",
      "4                           Mumps  per 1,000,000 total population   \n",
      "\n",
      "   INCIDENCE_RATE  \n",
      "0             0.0  \n",
      "1             0.0  \n",
      "2             9.3  \n",
      "3             NaN  \n",
      "4             0.0  \n",
      "\n",
      "📂 reported-cases-data.xlsx contains sheets: ['Data', 'Reference']\n",
      "       GROUP CODE   NAME    YEAR          DISEASE  \\\n",
      "0  COUNTRIES  ABW  Aruba  2023.0              CRS   \n",
      "1  COUNTRIES  ABW  Aruba  2023.0       DIPHTHERIA   \n",
      "2  COUNTRIES  ABW  Aruba  2023.0  INVASIVE_MENING   \n",
      "3  COUNTRIES  ABW  Aruba  2023.0          MEASLES   \n",
      "4  COUNTRIES  ABW  Aruba  2023.0            MUMPS   \n",
      "\n",
      "              DISEASE_DESCRIPTION  CASES  \n",
      "0     Congenital rubella syndrome    0.0  \n",
      "1                      Diphtheria    0.0  \n",
      "2  Invasive meningococcal disease    1.0  \n",
      "3                         Measles    NaN  \n",
      "4                           Mumps    0.0  \n",
      "\n",
      "📂 vaccine-introduction-data.xlsx contains sheets: ['Data', 'Reference']\n",
      "  ISO_3_CODE  COUNTRYNAME WHO_REGION    YEAR  \\\n",
      "0        AFG  Afghanistan       EMRO  2023.0   \n",
      "1        AFG  Afghanistan       EMRO  2023.0   \n",
      "2        AFG  Afghanistan       EMRO  2023.0   \n",
      "3        AFG  Afghanistan       EMRO  2023.0   \n",
      "4        AFG  Afghanistan       EMRO  2023.0   \n",
      "\n",
      "                                   DESCRIPTION INTRO  \n",
      "0             aP (acellular pertussis) vaccine    No  \n",
      "1                          Hepatitis A vaccine    No  \n",
      "2                          Hepatitis B vaccine   Yes  \n",
      "3                              HepB birth dose   Yes  \n",
      "4  Hib (Haemophilus influenzae type B) vaccine   Yes  \n",
      "\n",
      "📂 vaccine-schedule-data.xlsx contains sheets: ['Data', 'Reference']\n",
      "  ISO_3_CODE COUNTRYNAME WHO_REGION    YEAR VACCINECODE  \\\n",
      "0        ABW       Aruba       AMRO  2023.0  DTAPHIBIPV   \n",
      "1        ABW       Aruba       AMRO  2023.0  DTAPHIBIPV   \n",
      "2        ABW       Aruba       AMRO  2023.0  DTAPHIBIPV   \n",
      "3        ABW       Aruba       AMRO  2023.0  DTAPHIBIPV   \n",
      "4        ABW       Aruba       AMRO  2023.0     DTAPIPV   \n",
      "\n",
      "                VACCINE_DESCRIPTION  SCHEDULEROUNDS  TARGETPOP  \\\n",
      "0  DTaP-Hib-IPV (acellular) vaccine             1.0        NaN   \n",
      "1  DTaP-Hib-IPV (acellular) vaccine             2.0        NaN   \n",
      "2  DTaP-Hib-IPV (acellular) vaccine             3.0        NaN   \n",
      "3  DTaP-Hib-IPV (acellular) vaccine             4.0    B_2YL_W   \n",
      "4      DTaP-IPV (acellular) vaccine             5.0  B_CHILD_W   \n",
      "\n",
      "  TARGETPOP_DESCRIPTION   GEOAREA AGEADMINISTERED SOURCECOMMENT  \n",
      "0       General/routine  NATIONAL              M2           NaN  \n",
      "1       General/routine  NATIONAL              M4           NaN  \n",
      "2       General/routine  NATIONAL              M6           NaN  \n",
      "3       General/routine  NATIONAL             M15           NaN  \n",
      "4       General/routine  NATIONAL              Y4           NaN  \n"
     ]
    }
   ],
   "source": [
    "import pandas as pd\n",
    "\n",
    "files = [\n",
    "    \"coverage-data.xlsx\",\n",
    "    \"incidence-rate-data.xlsx\",\n",
    "    \"reported-cases-data.xlsx\",\n",
    "    \"vaccine-introduction-data.xlsx\",\n",
    "    \"vaccine-schedule-data.xlsx\"\n",
    "]\n",
    "\n",
    "for f in files:\n",
    "    xls = pd.ExcelFile(f)\n",
    "    print(f\"\\n📂 {f} contains sheets: {xls.sheet_names}\")\n",
    "    # Show first 5 rows of the first sheet\n",
    "    df = pd.read_excel(f, sheet_name=0)\n",
    "    print(df.head())"
   ]
  },
  {
   "cell_type": "code",
   "execution_count": 71,
   "id": "febc95cc-0a0f-4860-ab4d-8c733dd52aa2",
   "metadata": {},
   "outputs": [
    {
     "name": "stdout",
     "output_type": "stream",
     "text": [
      "Coverage:        group code   name    year antigen antigen_description  \\\n",
      "0  COUNTRIES  ABW  Aruba  2023.0     BCG                 BCG   \n",
      "1  COUNTRIES  ABW  Aruba  2023.0     BCG                 BCG   \n",
      "\n",
      "  coverage_category coverage_category_description  target_number  doses  \\\n",
      "0             ADMIN       Administrative coverage            NaN    NaN   \n",
      "1          OFFICIAL             Official coverage            NaN    NaN   \n",
      "\n",
      "   coverage  \n",
      "0       NaN  \n",
      "1       NaN   \n",
      "\n",
      "Incidence:        group code   name    year     disease          disease_description  \\\n",
      "0  COUNTRIES  ABW  Aruba  2023.0         CRS  Congenital rubella syndrome   \n",
      "1  COUNTRIES  ABW  Aruba  2023.0  DIPHTHERIA                   Diphtheria   \n",
      "\n",
      "                      denominator  incidence_rate  \n",
      "0          per 10,000 live births             0.0  \n",
      "1  per 1,000,000 total population             0.0   \n",
      "\n",
      "Reported:        group code   name    year     disease          disease_description  \\\n",
      "0  COUNTRIES  ABW  Aruba  2023.0         CRS  Congenital rubella syndrome   \n",
      "1  COUNTRIES  ABW  Aruba  2023.0  DIPHTHERIA                   Diphtheria   \n",
      "\n",
      "   cases  \n",
      "0    0.0  \n",
      "1    0.0   \n",
      "\n",
      "Introduction:   iso_3_code  countryname who_region    year  \\\n",
      "0        AFG  Afghanistan       EMRO  2023.0   \n",
      "1        AFG  Afghanistan       EMRO  2023.0   \n",
      "\n",
      "                        description intro  \n",
      "0  aP (acellular pertussis) vaccine    No  \n",
      "1               Hepatitis A vaccine    No   \n",
      "\n",
      "Schedule:   iso_3_code countryname who_region    year vaccinecode  \\\n",
      "0        ABW       Aruba       AMRO  2023.0  DTAPHIBIPV   \n",
      "1        ABW       Aruba       AMRO  2023.0  DTAPHIBIPV   \n",
      "\n",
      "                vaccine_description  schedulerounds targetpop  \\\n",
      "0  DTaP-Hib-IPV (acellular) vaccine             1.0       NaN   \n",
      "1  DTaP-Hib-IPV (acellular) vaccine             2.0       NaN   \n",
      "\n",
      "  targetpop_description   geoarea ageadministered sourcecomment  \n",
      "0       General/routine  NATIONAL              M2           NaN  \n",
      "1       General/routine  NATIONAL              M4           NaN   \n",
      "\n"
     ]
    }
   ],
   "source": [
    "import pandas as pd\n",
    "\n",
    "# Load Excel files (always use 'Data' sheet)\n",
    "coverage = pd.read_excel(\"coverage-data.xlsx\", sheet_name=\"Data\")\n",
    "incidence = pd.read_excel(\"incidence-rate-data.xlsx\", sheet_name=\"Data\")\n",
    "reported = pd.read_excel(\"reported-cases-data.xlsx\", sheet_name=\"Data\")\n",
    "introduction = pd.read_excel(\"vaccine-introduction-data.xlsx\", sheet_name=\"Data\")\n",
    "schedule = pd.read_excel(\"vaccine-schedule-data.xlsx\", sheet_name=\"Data\")\n",
    "\n",
    "# Standardize column names (lowercase, underscores)\n",
    "def clean_columns(df):\n",
    "    df.columns = df.columns.str.strip().str.lower().str.replace(\" \", \"_\")\n",
    "    return df\n",
    "\n",
    "coverage = clean_columns(coverage)\n",
    "incidence = clean_columns(incidence)\n",
    "reported = clean_columns(reported)\n",
    "introduction = clean_columns(introduction)\n",
    "schedule = clean_columns(schedule)\n",
    "\n",
    "# Quick check\n",
    "print(\"Coverage:\", coverage.head(2), \"\\n\")\n",
    "print(\"Incidence:\", incidence.head(2), \"\\n\")\n",
    "print(\"Reported:\", reported.head(2), \"\\n\")\n",
    "print(\"Introduction:\", introduction.head(2), \"\\n\")\n",
    "print(\"Schedule:\", schedule.head(2), \"\\n\")"
   ]
  },
  {
   "cell_type": "code",
   "execution_count": 73,
   "id": "b4f4fec5-17b6-4c2c-a3c5-f4695cbb33fa",
   "metadata": {},
   "outputs": [
    {
     "name": "stdout",
     "output_type": "stream",
     "text": [
      "Data saved to vaccination_project.db\n"
     ]
    }
   ],
   "source": [
    "import sqlite3\n",
    "\n",
    "# Create a new SQLite database (or connect if exists)\n",
    "conn = sqlite3.connect(\"vaccination_project.db\")\n",
    "\n",
    "# Save each dataframe as a table\n",
    "coverage.to_sql(\"coverage\", conn, if_exists=\"replace\", index=False)\n",
    "incidence.to_sql(\"incidence\", conn, if_exists=\"replace\", index=False)\n",
    "reported.to_sql(\"reported\", conn, if_exists=\"replace\", index=False)\n",
    "introduction.to_sql(\"introduction\", conn, if_exists=\"replace\", index=False)\n",
    "schedule.to_sql(\"schedule\", conn, if_exists=\"replace\", index=False)\n",
    "\n",
    "conn.close()\n",
    "\n",
    "print(\"Data saved to vaccination_project.db\")"
   ]
  },
  {
   "cell_type": "code",
   "execution_count": 75,
   "id": "42aefacc-4d8a-40c8-88fa-3e2e8040b8cc",
   "metadata": {},
   "outputs": [
    {
     "name": "stdout",
     "output_type": "stream",
     "text": [
      " All CSV files exported successfully! You can now import them into Power BI.\n"
     ]
    }
   ],
   "source": [
    "# Save all datasets to CSV for Power BI\n",
    "coverage.to_csv(\"coverage.csv\", index=False)\n",
    "incidence.to_csv(\"incidence.csv\", index=False)\n",
    "reported.to_csv(\"reported.csv\", index=False)\n",
    "introduction.to_csv(\"introduction.csv\", index=False)\n",
    "schedule.to_csv(\"schedule.csv\", index=False)\n",
    "\n",
    "print(\" All CSV files exported successfully! You can now import them into Power BI.\")"
   ]
  },
  {
   "cell_type": "code",
   "execution_count": 77,
   "id": "da012bf5-0753-434f-a3b3-36621ae5e1d7",
   "metadata": {},
   "outputs": [
    {
     "ename": "ProgrammingError",
     "evalue": "Cannot operate on a closed database.",
     "output_type": "error",
     "traceback": [
      "\u001b[1;31m---------------------------------------------------------------------------\u001b[0m",
      "\u001b[1;31mProgrammingError\u001b[0m                          Traceback (most recent call last)",
      "Cell \u001b[1;32mIn[77], line 2\u001b[0m\n\u001b[0;32m      1\u001b[0m \u001b[38;5;28;01mfor\u001b[39;00m table \u001b[38;5;129;01min\u001b[39;00m tables:\n\u001b[1;32m----> 2\u001b[0m     df \u001b[38;5;241m=\u001b[39m pd\u001b[38;5;241m.\u001b[39mread_sql_query(\u001b[38;5;124mf\u001b[39m\u001b[38;5;124m\"\u001b[39m\u001b[38;5;124mSELECT * FROM \u001b[39m\u001b[38;5;132;01m{\u001b[39;00mtable\u001b[38;5;132;01m}\u001b[39;00m\u001b[38;5;124m\"\u001b[39m, conn)\n\u001b[0;32m      3\u001b[0m     df\u001b[38;5;241m.\u001b[39mto_csv(\u001b[38;5;124mf\u001b[39m\u001b[38;5;124m\"\u001b[39m\u001b[38;5;132;01m{\u001b[39;00mtable\u001b[38;5;132;01m}\u001b[39;00m\u001b[38;5;124m.csv\u001b[39m\u001b[38;5;124m\"\u001b[39m, index\u001b[38;5;241m=\u001b[39m\u001b[38;5;28;01mFalse\u001b[39;00m)\n\u001b[0;32m      4\u001b[0m     \u001b[38;5;28mprint\u001b[39m(\u001b[38;5;124mf\u001b[39m\u001b[38;5;124m\"\u001b[39m\u001b[38;5;124m Exported \u001b[39m\u001b[38;5;132;01m{\u001b[39;00mtable\u001b[38;5;132;01m}\u001b[39;00m\u001b[38;5;124m.csv\u001b[39m\u001b[38;5;124m\"\u001b[39m)\n",
      "File \u001b[1;32m~\\anaconda3\\Lib\\site-packages\\pandas\\io\\sql.py:526\u001b[0m, in \u001b[0;36mread_sql_query\u001b[1;34m(sql, con, index_col, coerce_float, params, parse_dates, chunksize, dtype, dtype_backend)\u001b[0m\n\u001b[0;32m    523\u001b[0m \u001b[38;5;28;01massert\u001b[39;00m dtype_backend \u001b[38;5;129;01mis\u001b[39;00m \u001b[38;5;129;01mnot\u001b[39;00m lib\u001b[38;5;241m.\u001b[39mno_default\n\u001b[0;32m    525\u001b[0m \u001b[38;5;28;01mwith\u001b[39;00m pandasSQL_builder(con) \u001b[38;5;28;01mas\u001b[39;00m pandas_sql:\n\u001b[1;32m--> 526\u001b[0m     \u001b[38;5;28;01mreturn\u001b[39;00m pandas_sql\u001b[38;5;241m.\u001b[39mread_query(\n\u001b[0;32m    527\u001b[0m         sql,\n\u001b[0;32m    528\u001b[0m         index_col\u001b[38;5;241m=\u001b[39mindex_col,\n\u001b[0;32m    529\u001b[0m         params\u001b[38;5;241m=\u001b[39mparams,\n\u001b[0;32m    530\u001b[0m         coerce_float\u001b[38;5;241m=\u001b[39mcoerce_float,\n\u001b[0;32m    531\u001b[0m         parse_dates\u001b[38;5;241m=\u001b[39mparse_dates,\n\u001b[0;32m    532\u001b[0m         chunksize\u001b[38;5;241m=\u001b[39mchunksize,\n\u001b[0;32m    533\u001b[0m         dtype\u001b[38;5;241m=\u001b[39mdtype,\n\u001b[0;32m    534\u001b[0m         dtype_backend\u001b[38;5;241m=\u001b[39mdtype_backend,\n\u001b[0;32m    535\u001b[0m     )\n",
      "File \u001b[1;32m~\\anaconda3\\Lib\\site-packages\\pandas\\io\\sql.py:2738\u001b[0m, in \u001b[0;36mSQLiteDatabase.read_query\u001b[1;34m(self, sql, index_col, coerce_float, parse_dates, params, chunksize, dtype, dtype_backend)\u001b[0m\n\u001b[0;32m   2727\u001b[0m \u001b[38;5;28;01mdef\u001b[39;00m \u001b[38;5;21mread_query\u001b[39m(\n\u001b[0;32m   2728\u001b[0m     \u001b[38;5;28mself\u001b[39m,\n\u001b[0;32m   2729\u001b[0m     sql,\n\u001b[1;32m   (...)\u001b[0m\n\u001b[0;32m   2736\u001b[0m     dtype_backend: DtypeBackend \u001b[38;5;241m|\u001b[39m Literal[\u001b[38;5;124m\"\u001b[39m\u001b[38;5;124mnumpy\u001b[39m\u001b[38;5;124m\"\u001b[39m] \u001b[38;5;241m=\u001b[39m \u001b[38;5;124m\"\u001b[39m\u001b[38;5;124mnumpy\u001b[39m\u001b[38;5;124m\"\u001b[39m,\n\u001b[0;32m   2737\u001b[0m ) \u001b[38;5;241m-\u001b[39m\u001b[38;5;241m>\u001b[39m DataFrame \u001b[38;5;241m|\u001b[39m Iterator[DataFrame]:\n\u001b[1;32m-> 2738\u001b[0m     cursor \u001b[38;5;241m=\u001b[39m \u001b[38;5;28mself\u001b[39m\u001b[38;5;241m.\u001b[39mexecute(sql, params)\n\u001b[0;32m   2739\u001b[0m     columns \u001b[38;5;241m=\u001b[39m [col_desc[\u001b[38;5;241m0\u001b[39m] \u001b[38;5;28;01mfor\u001b[39;00m col_desc \u001b[38;5;129;01min\u001b[39;00m cursor\u001b[38;5;241m.\u001b[39mdescription]\n\u001b[0;32m   2741\u001b[0m     \u001b[38;5;28;01mif\u001b[39;00m chunksize \u001b[38;5;129;01mis\u001b[39;00m \u001b[38;5;129;01mnot\u001b[39;00m \u001b[38;5;28;01mNone\u001b[39;00m:\n",
      "File \u001b[1;32m~\\anaconda3\\Lib\\site-packages\\pandas\\io\\sql.py:2672\u001b[0m, in \u001b[0;36mSQLiteDatabase.execute\u001b[1;34m(self, sql, params)\u001b[0m\n\u001b[0;32m   2670\u001b[0m     \u001b[38;5;28;01mraise\u001b[39;00m \u001b[38;5;167;01mTypeError\u001b[39;00m(\u001b[38;5;124m\"\u001b[39m\u001b[38;5;124mQuery must be a string unless using sqlalchemy.\u001b[39m\u001b[38;5;124m\"\u001b[39m)\n\u001b[0;32m   2671\u001b[0m args \u001b[38;5;241m=\u001b[39m [] \u001b[38;5;28;01mif\u001b[39;00m params \u001b[38;5;129;01mis\u001b[39;00m \u001b[38;5;28;01mNone\u001b[39;00m \u001b[38;5;28;01melse\u001b[39;00m [params]\n\u001b[1;32m-> 2672\u001b[0m cur \u001b[38;5;241m=\u001b[39m \u001b[38;5;28mself\u001b[39m\u001b[38;5;241m.\u001b[39mcon\u001b[38;5;241m.\u001b[39mcursor()\n\u001b[0;32m   2673\u001b[0m \u001b[38;5;28;01mtry\u001b[39;00m:\n\u001b[0;32m   2674\u001b[0m     cur\u001b[38;5;241m.\u001b[39mexecute(sql, \u001b[38;5;241m*\u001b[39margs)\n",
      "\u001b[1;31mProgrammingError\u001b[0m: Cannot operate on a closed database."
     ]
    }
   ],
   "source": [
    "for table in tables:\n",
    "    df = pd.read_sql_query(f\"SELECT * FROM {table}\", conn)\n",
    "    df.to_csv(f\"{table}.csv\", index=False)\n",
    "    print(f\" Exported {table}.csv\")"
   ]
  },
  {
   "cell_type": "code",
   "execution_count": null,
   "id": "5492a198-5b9e-45ca-9b34-6c028a6f4187",
   "metadata": {},
   "outputs": [],
   "source": []
  }
 ],
 "metadata": {
  "kernelspec": {
   "display_name": "Python 3 (ipykernel)",
   "language": "python",
   "name": "python3"
  },
  "language_info": {
   "codemirror_mode": {
    "name": "ipython",
    "version": 3
   },
   "file_extension": ".py",
   "mimetype": "text/x-python",
   "name": "python",
   "nbconvert_exporter": "python",
   "pygments_lexer": "ipython3",
   "version": "3.12.7"
  }
 },
 "nbformat": 4,
 "nbformat_minor": 5
}
